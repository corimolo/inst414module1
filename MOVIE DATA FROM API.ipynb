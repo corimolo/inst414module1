{
 "cells": [
  {
   "cell_type": "code",
   "execution_count": 90,
   "id": "b825f88b",
   "metadata": {},
   "outputs": [
    {
     "name": "stdout",
     "output_type": "stream",
     "text": [
      "\n",
      "Movie Data:\n",
      "                        Title  Year  Runtime                        Genre  \\\n",
      "0                         Her  2013  126 min       Drama, Romance, Sci-Fi   \n",
      "1            A Beautiful Mind  2001  135 min    Biography, Drama, Mystery   \n",
      "2            Django Unchained  2012  165 min       Comedy, Drama, Western   \n",
      "3          The Shape of Water  2017  123 min      Drama, Fantasy, Romance   \n",
      "4                        Coco  2017  105 min  Animation, Adventure, Drama   \n",
      "..                        ...   ...      ...                          ...   \n",
      "75               3:10 to Yuma  2007  122 min         Action, Crime, Drama   \n",
      "76            Children of Men  2006  109 min        Action, Drama, Sci-Fi   \n",
      "77                     Zodiac  2007  157 min        Crime, Drama, Mystery   \n",
      "78              A Serious Man  2009  106 min                Comedy, Drama   \n",
      "79  Tinker Tailor Soldier Spy  2011  127 min     Drama, Mystery, Thriller   \n",
      "\n",
      "                                             Language  \\\n",
      "0                                             English   \n",
      "1                                             English   \n",
      "2                    English, German, French, Italian   \n",
      "3            English, American Sign , Russian, French   \n",
      "4                                    English, Spanish   \n",
      "..                                                ...   \n",
      "75                                   English, Chinese   \n",
      "76  English, German, Italian, Romanian, Spanish, A...   \n",
      "77                                            English   \n",
      "78                           English, Yiddish, Hebrew   \n",
      "79       English, Russian, Hungarian, French, Turkish   \n",
      "\n",
      "                                           Country     BoxOffice  \n",
      "0                                    United States   $25,568,251  \n",
      "1                                    United States  $170,742,341  \n",
      "2                                    United States  $162,805,434  \n",
      "3                            United States, Mexico   $63,859,435  \n",
      "4                            United States, Mexico  $210,460,015  \n",
      "..                                             ...           ...  \n",
      "75                                   United States   $53,606,916  \n",
      "76            United States, United Kingdom, Japan   $35,552,383  \n",
      "77                                   United States   $33,080,084  \n",
      "78           United Kingdom, France, United States    $9,228,768  \n",
      "79  United Kingdom, France, Germany, United States   $24,149,393  \n",
      "\n",
      "[80 rows x 7 columns]\n"
     ]
    }
   ],
   "source": [
    "import requests\n",
    "import pandas as pd\n",
    "import numpy as np\n",
    "import ast\n",
    "import matplotlib.pyplot as plt\n",
    "import seaborn as sns\n",
    "%matplotlib inline\n",
    "\n",
    "# Replace with your actual API key\n",
    "api_key = '85e0cce8'\n",
    "\n",
    "# Define a function to get movie data from TMDb API\n",
    "def get_movie_data(title):\n",
    "    \n",
    "    url = f'https://www.omdbapi.com/?t={title}&apikey={api_key}'\n",
    "    try:\n",
    "        response = requests.get(url)\n",
    "        if response.status_code == 200:\n",
    "            data = response.json()\n",
    "            if data['Response']== 'True':\n",
    "                return data\n",
    "            else:\n",
    "                print(f\"Movie not found or error from API: {data.get('Error', 'Unknown error')}\")\n",
    "                return None\n",
    "        else:\n",
    "            print(f\"HTTP Error {response.status_code}: {response.text}\")\n",
    "            return None\n",
    "    except requests.exceptions.RequestException as e:\n",
    "        print(f\"Request failed: {e}\")\n",
    "        return None\n",
    "\n",
    "# Example movie titles\n",
    "titles = [\"Her\", \"A Beautiful Mind\", \"Django Unchained\", \"The Shape of Water\", \"Coco\", \"Slumdog Millionaire\", \"1917\", \"Arrival\", \n",
    "\"Black Panther\", \"Requiem for a Dream\", \"Eternal Sunshine of the Spotless Mind\", \"The Prestige\", \"The Pianist\", \"Spotlight\", \n",
    "\"Moonlight\", \"12 Years a Slave\", \"The Revenant\", \"Gravity\", \"The Irishman\", \"Joker\", \"Toy Story 3\", \"Shrek\", \"Finding Nemo\", \n",
    "\"The Incredibles\", \"WALL-E\", \"The Matrix Reloaded\", \"Up\", \"X-Men: Days of Future Past\", \"Avengers: Endgame\", \"Iron Man\", \n",
    "\"Spider-Man 2\", \"Guardians of the Galaxy\", \"Logan\", \"The Bourne Ultimatum\", \"Casino Royale\", \"John Wick\", \"Skyfall\", \n",
    "\"Brokeback Mountain\", \"A Star is Born\", \"The Curious Case of Benjamin Button\", \"The King's Speech\", \"Little Miss Sunshine\", \n",
    "\"The Fighter\", \"Lady Bird\", \"The Hurt Locker\", \"Once Upon a Time in Hollywood\", \"The Big Short\", \"Juno\", \"Memento\", \"Oldboy\", \n",
    "\"Drive\", \"The Tree of Life\", \"The Girl with the Dragon Tattoo\", \"Shutter Island\", \"Prisoners\", \"Room\", \"Marriage Story\", \n",
    "\"Birdman\", \"Knives Out\", \"The Handmaiden\", \"The Ballad of Buster Scruggs\", \"The Batman\", \"The Lighthouse\", \"Dune\", \"Nightcrawler\", \n",
    "\"Gone Girl\", \"The Trial of the Chicago 7\", \"Nomadland\", \"Minari\", \"The Farewell\", \"Crouching Tiger, Hidden Dragon\", \n",
    "\"Lost in Translation\", \"Sin City\", \"Pan’s Labyrinth\", \"The Lives of Others\", \"3:10 to Yuma\", \"Children of Men\", \"Zodiac\", \n",
    "\"A Serious Man\", \"Tinker Tailor Soldier Spy\"]\n",
    "\n",
    "# List to hold movie data\n",
    "movie_data = []\n",
    "\n",
    "# Retrieve data for each movie\n",
    "for title in titles:\n",
    "    data = get_movie_data(title)\n",
    "    if data:\n",
    "        movie_data.append({\n",
    "            'Title': data.get('Title', 'N/A'),\n",
    "            'Year': data.get('Year', 'N/A'),\n",
    "            'Runtime': data.get('Runtime', 'N/A'),\n",
    "            'Genre': data.get('Genre', 'N/A'),\n",
    "            'Language': data.get('Language', 'N/A'),\n",
    "            'Country': data.get('Country', 'N/A'),\n",
    "            'BoxOffice': data.get('BoxOffice', 'N/A'),\n",
    "            \n",
    "        })\n",
    "\n",
    "# Create a DataFrame from the movie data\n",
    "df = pd.DataFrame(movie_data)\n",
    "\n",
    "# Print the DataFrame\n",
    "print(\"\\nMovie Data:\")\n",
    "print(df)"
   ]
  },
  {
   "cell_type": "code",
   "execution_count": 91,
   "id": "883075c8",
   "metadata": {},
   "outputs": [
    {
     "name": "stdout",
     "output_type": "stream",
     "text": [
      "Title        object\n",
      "Year         object\n",
      "Runtime      object\n",
      "Genre        object\n",
      "Language     object\n",
      "Country      object\n",
      "BoxOffice    object\n",
      "dtype: object\n"
     ]
    }
   ],
   "source": [
    "print(df.dtypes)\n"
   ]
  },
  {
   "cell_type": "code",
   "execution_count": 92,
   "id": "5f4953da",
   "metadata": {},
   "outputs": [
    {
     "name": "stdout",
     "output_type": "stream",
     "text": [
      "<class 'pandas.core.frame.DataFrame'>\n",
      "RangeIndex: 80 entries, 0 to 79\n",
      "Data columns (total 7 columns):\n",
      " #   Column     Non-Null Count  Dtype \n",
      "---  ------     --------------  ----- \n",
      " 0   Title      80 non-null     object\n",
      " 1   Year       80 non-null     object\n",
      " 2   Runtime    80 non-null     object\n",
      " 3   Genre      80 non-null     object\n",
      " 4   Language   80 non-null     object\n",
      " 5   Country    80 non-null     object\n",
      " 6   BoxOffice  80 non-null     object\n",
      "dtypes: object(7)\n",
      "memory usage: 4.5+ KB\n"
     ]
    }
   ],
   "source": [
    "df.info()"
   ]
  },
  {
   "cell_type": "code",
   "execution_count": 93,
   "id": "65d789be",
   "metadata": {},
   "outputs": [
    {
     "data": {
      "text/plain": [
       "(80, 7)"
      ]
     },
     "execution_count": 93,
     "metadata": {},
     "output_type": "execute_result"
    }
   ],
   "source": [
    "df.shape"
   ]
  },
  {
   "cell_type": "code",
   "execution_count": 94,
   "id": "47d5107d",
   "metadata": {},
   "outputs": [
    {
     "data": {
      "text/plain": [
       "Title        0\n",
       "Year         0\n",
       "Runtime      0\n",
       "Genre        0\n",
       "Language     0\n",
       "Country      0\n",
       "BoxOffice    0\n",
       "dtype: int64"
      ]
     },
     "execution_count": 94,
     "metadata": {},
     "output_type": "execute_result"
    }
   ],
   "source": [
    "df.isnull().sum()"
   ]
  },
  {
   "cell_type": "code",
   "execution_count": 95,
   "id": "0a5a5bdd",
   "metadata": {},
   "outputs": [
    {
     "data": {
      "text/plain": [
       "0"
      ]
     },
     "execution_count": 95,
     "metadata": {},
     "output_type": "execute_result"
    }
   ],
   "source": [
    "df.duplicated().sum()"
   ]
  },
  {
   "cell_type": "code",
   "execution_count": 96,
   "id": "e690372e",
   "metadata": {},
   "outputs": [
    {
     "data": {
      "text/plain": [
       "Title        80\n",
       "Year         24\n",
       "Runtime      55\n",
       "Genre        46\n",
       "Language     44\n",
       "Country      29\n",
       "BoxOffice    75\n",
       "dtype: int64"
      ]
     },
     "execution_count": 96,
     "metadata": {},
     "output_type": "execute_result"
    }
   ],
   "source": [
    "df.nunique()"
   ]
  },
  {
   "cell_type": "code",
   "execution_count": 97,
   "id": "40a5b533",
   "metadata": {},
   "outputs": [],
   "source": [
    "df.drop_duplicates(inplace = True)"
   ]
  },
  {
   "cell_type": "code",
   "execution_count": 98,
   "id": "4c231e7f",
   "metadata": {},
   "outputs": [
    {
     "name": "stdout",
     "output_type": "stream",
     "text": [
      "Title        0\n",
      "Year         0\n",
      "Runtime      0\n",
      "Genre        0\n",
      "Language     0\n",
      "Country      0\n",
      "BoxOffice    0\n",
      "dtype: int64\n"
     ]
    }
   ],
   "source": [
    "print(df.isnull().sum())"
   ]
  },
  {
   "cell_type": "code",
   "execution_count": 99,
   "id": "e47f9f02",
   "metadata": {},
   "outputs": [
    {
     "data": {
      "text/html": [
       "<div>\n",
       "<style scoped>\n",
       "    .dataframe tbody tr th:only-of-type {\n",
       "        vertical-align: middle;\n",
       "    }\n",
       "\n",
       "    .dataframe tbody tr th {\n",
       "        vertical-align: top;\n",
       "    }\n",
       "\n",
       "    .dataframe thead th {\n",
       "        text-align: right;\n",
       "    }\n",
       "</style>\n",
       "<table border=\"1\" class=\"dataframe\">\n",
       "  <thead>\n",
       "    <tr style=\"text-align: right;\">\n",
       "      <th></th>\n",
       "      <th>Title</th>\n",
       "      <th>Year</th>\n",
       "      <th>Runtime</th>\n",
       "      <th>Genre</th>\n",
       "      <th>Language</th>\n",
       "      <th>Country</th>\n",
       "      <th>BoxOffice</th>\n",
       "    </tr>\n",
       "  </thead>\n",
       "  <tbody>\n",
       "    <tr>\n",
       "      <th>count</th>\n",
       "      <td>80</td>\n",
       "      <td>80</td>\n",
       "      <td>80</td>\n",
       "      <td>80</td>\n",
       "      <td>80</td>\n",
       "      <td>80</td>\n",
       "      <td>80</td>\n",
       "    </tr>\n",
       "    <tr>\n",
       "      <th>unique</th>\n",
       "      <td>80</td>\n",
       "      <td>24</td>\n",
       "      <td>55</td>\n",
       "      <td>46</td>\n",
       "      <td>44</td>\n",
       "      <td>29</td>\n",
       "      <td>75</td>\n",
       "    </tr>\n",
       "    <tr>\n",
       "      <th>top</th>\n",
       "      <td>Her</td>\n",
       "      <td>2019</td>\n",
       "      <td>137 min</td>\n",
       "      <td>Comedy, Drama</td>\n",
       "      <td>English</td>\n",
       "      <td>United States</td>\n",
       "      <td>N/A</td>\n",
       "    </tr>\n",
       "    <tr>\n",
       "      <th>freq</th>\n",
       "      <td>1</td>\n",
       "      <td>8</td>\n",
       "      <td>4</td>\n",
       "      <td>6</td>\n",
       "      <td>28</td>\n",
       "      <td>41</td>\n",
       "      <td>6</td>\n",
       "    </tr>\n",
       "  </tbody>\n",
       "</table>\n",
       "</div>"
      ],
      "text/plain": [
       "       Title  Year  Runtime          Genre Language        Country BoxOffice\n",
       "count     80    80       80             80       80             80        80\n",
       "unique    80    24       55             46       44             29        75\n",
       "top      Her  2019  137 min  Comedy, Drama  English  United States       N/A\n",
       "freq       1     8        4              6       28             41         6"
      ]
     },
     "execution_count": 99,
     "metadata": {},
     "output_type": "execute_result"
    }
   ],
   "source": [
    "df. describe()"
   ]
  },
  {
   "cell_type": "code",
   "execution_count": 125,
   "id": "b3089831",
   "metadata": {},
   "outputs": [],
   "source": [
    "df['Runtime'] = df['Runtime'].replace({'min': '', ' ': ''}, regex=True)\n",
    "df['Runtime'] = df['Runtime'].fillna(0)"
   ]
  },
  {
   "cell_type": "code",
   "execution_count": 126,
   "id": "73d5fc94",
   "metadata": {},
   "outputs": [
    {
     "data": {
      "text/html": [
       "<div>\n",
       "<style scoped>\n",
       "    .dataframe tbody tr th:only-of-type {\n",
       "        vertical-align: middle;\n",
       "    }\n",
       "\n",
       "    .dataframe tbody tr th {\n",
       "        vertical-align: top;\n",
       "    }\n",
       "\n",
       "    .dataframe thead th {\n",
       "        text-align: right;\n",
       "    }\n",
       "</style>\n",
       "<table border=\"1\" class=\"dataframe\">\n",
       "  <thead>\n",
       "    <tr style=\"text-align: right;\">\n",
       "      <th></th>\n",
       "      <th>Title</th>\n",
       "      <th>Year</th>\n",
       "      <th>Runtime</th>\n",
       "      <th>Genre</th>\n",
       "      <th>Language</th>\n",
       "      <th>Country</th>\n",
       "      <th>BoxOffice</th>\n",
       "      <th>Revenue</th>\n",
       "    </tr>\n",
       "  </thead>\n",
       "  <tbody>\n",
       "    <tr>\n",
       "      <th>0</th>\n",
       "      <td>Her</td>\n",
       "      <td>2013</td>\n",
       "      <td>126</td>\n",
       "      <td>Drama, Romance, Sci-Fi</td>\n",
       "      <td>English</td>\n",
       "      <td>United States</td>\n",
       "      <td>$25,568,251</td>\n",
       "      <td>25568251.0</td>\n",
       "    </tr>\n",
       "    <tr>\n",
       "      <th>1</th>\n",
       "      <td>A Beautiful Mind</td>\n",
       "      <td>2001</td>\n",
       "      <td>135</td>\n",
       "      <td>Biography, Drama, Mystery</td>\n",
       "      <td>English</td>\n",
       "      <td>United States</td>\n",
       "      <td>$170,742,341</td>\n",
       "      <td>170742341.0</td>\n",
       "    </tr>\n",
       "    <tr>\n",
       "      <th>2</th>\n",
       "      <td>Django Unchained</td>\n",
       "      <td>2012</td>\n",
       "      <td>165</td>\n",
       "      <td>Comedy, Drama, Western</td>\n",
       "      <td>English, German, French, Italian</td>\n",
       "      <td>United States</td>\n",
       "      <td>$162,805,434</td>\n",
       "      <td>162805434.0</td>\n",
       "    </tr>\n",
       "    <tr>\n",
       "      <th>3</th>\n",
       "      <td>The Shape of Water</td>\n",
       "      <td>2017</td>\n",
       "      <td>123</td>\n",
       "      <td>Drama, Fantasy, Romance</td>\n",
       "      <td>English, American Sign , Russian, French</td>\n",
       "      <td>United States, Mexico</td>\n",
       "      <td>$63,859,435</td>\n",
       "      <td>63859435.0</td>\n",
       "    </tr>\n",
       "    <tr>\n",
       "      <th>4</th>\n",
       "      <td>Coco</td>\n",
       "      <td>2017</td>\n",
       "      <td>105</td>\n",
       "      <td>Animation, Adventure, Drama</td>\n",
       "      <td>English, Spanish</td>\n",
       "      <td>United States, Mexico</td>\n",
       "      <td>$210,460,015</td>\n",
       "      <td>210460015.0</td>\n",
       "    </tr>\n",
       "  </tbody>\n",
       "</table>\n",
       "</div>"
      ],
      "text/plain": [
       "                Title  Year Runtime                        Genre  \\\n",
       "0                 Her  2013     126       Drama, Romance, Sci-Fi   \n",
       "1    A Beautiful Mind  2001     135    Biography, Drama, Mystery   \n",
       "2    Django Unchained  2012     165       Comedy, Drama, Western   \n",
       "3  The Shape of Water  2017     123      Drama, Fantasy, Romance   \n",
       "4                Coco  2017     105  Animation, Adventure, Drama   \n",
       "\n",
       "                                   Language                Country  \\\n",
       "0                                   English          United States   \n",
       "1                                   English          United States   \n",
       "2          English, German, French, Italian          United States   \n",
       "3  English, American Sign , Russian, French  United States, Mexico   \n",
       "4                          English, Spanish  United States, Mexico   \n",
       "\n",
       "      BoxOffice      Revenue  \n",
       "0   $25,568,251   25568251.0  \n",
       "1  $170,742,341  170742341.0  \n",
       "2  $162,805,434  162805434.0  \n",
       "3   $63,859,435   63859435.0  \n",
       "4  $210,460,015  210460015.0  "
      ]
     },
     "execution_count": 126,
     "metadata": {},
     "output_type": "execute_result"
    }
   ],
   "source": [
    "df.head()"
   ]
  },
  {
   "cell_type": "code",
   "execution_count": 127,
   "id": "cf3fbfcc",
   "metadata": {},
   "outputs": [
    {
     "name": "stdout",
     "output_type": "stream",
     "text": [
      "                        Title  Year Runtime                        Genre  \\\n",
      "0                         Her  2013     126       Drama, Romance, Sci-Fi   \n",
      "1            A Beautiful Mind  2001     135    Biography, Drama, Mystery   \n",
      "2            Django Unchained  2012     165       Comedy, Drama, Western   \n",
      "3          The Shape of Water  2017     123      Drama, Fantasy, Romance   \n",
      "4                        Coco  2017     105  Animation, Adventure, Drama   \n",
      "..                        ...   ...     ...                          ...   \n",
      "75               3:10 to Yuma  2007     122         Action, Crime, Drama   \n",
      "76            Children of Men  2006     109        Action, Drama, Sci-Fi   \n",
      "77                     Zodiac  2007     157        Crime, Drama, Mystery   \n",
      "78              A Serious Man  2009     106                Comedy, Drama   \n",
      "79  Tinker Tailor Soldier Spy  2011     127     Drama, Mystery, Thriller   \n",
      "\n",
      "                                             Language  \\\n",
      "0                                             English   \n",
      "1                                             English   \n",
      "2                    English, German, French, Italian   \n",
      "3            English, American Sign , Russian, French   \n",
      "4                                    English, Spanish   \n",
      "..                                                ...   \n",
      "75                                   English, Chinese   \n",
      "76  English, German, Italian, Romanian, Spanish, A...   \n",
      "77                                            English   \n",
      "78                           English, Yiddish, Hebrew   \n",
      "79       English, Russian, Hungarian, French, Turkish   \n",
      "\n",
      "                                           Country     BoxOffice      Revenue  \n",
      "0                                    United States   $25,568,251   25568251.0  \n",
      "1                                    United States  $170,742,341  170742341.0  \n",
      "2                                    United States  $162,805,434  162805434.0  \n",
      "3                            United States, Mexico   $63,859,435   63859435.0  \n",
      "4                            United States, Mexico  $210,460,015  210460015.0  \n",
      "..                                             ...           ...          ...  \n",
      "75                                   United States   $53,606,916   53606916.0  \n",
      "76            United States, United Kingdom, Japan   $35,552,383   35552383.0  \n",
      "77                                   United States   $33,080,084   33080084.0  \n",
      "78           United Kingdom, France, United States    $9,228,768    9228768.0  \n",
      "79  United Kingdom, France, Germany, United States   $24,149,393   24149393.0  \n",
      "\n",
      "[80 rows x 8 columns]\n"
     ]
    }
   ],
   "source": [
    "# Clean the 'Revenue' column (removing '$' and ','), then convert to float\n",
    "df['Revenue'] = df['BoxOffice'].replace({'\\$': '', ',': ''}, regex=True)  # Removing $ and , \n",
    "df['Revenue'] = pd.to_numeric(df['Revenue'], errors='coerce')  # Convert to float, coercing errors to NaN\n",
    "\n",
    "\n",
    "print(df)\n"
   ]
  },
  {
   "cell_type": "code",
   "execution_count": 128,
   "id": "b919214b",
   "metadata": {},
   "outputs": [],
   "source": [
    "top_movies = df.query('Revenue  > Revenue.mean()')   "
   ]
  },
  {
   "cell_type": "code",
   "execution_count": 129,
   "id": "bbfd45cf",
   "metadata": {},
   "outputs": [
    {
     "name": "stdout",
     "output_type": "stream",
     "text": [
      "<class 'pandas.core.frame.DataFrame'>\n",
      "Int64Index: 28 entries, 1 to 65\n",
      "Data columns (total 8 columns):\n",
      " #   Column     Non-Null Count  Dtype  \n",
      "---  ------     --------------  -----  \n",
      " 0   Title      28 non-null     object \n",
      " 1   Year       28 non-null     object \n",
      " 2   Runtime    28 non-null     object \n",
      " 3   Genre      28 non-null     object \n",
      " 4   Language   28 non-null     object \n",
      " 5   Country    28 non-null     object \n",
      " 6   BoxOffice  28 non-null     object \n",
      " 7   Revenue    28 non-null     float64\n",
      "dtypes: float64(1), object(7)\n",
      "memory usage: 2.0+ KB\n"
     ]
    }
   ],
   "source": [
    "top_movies.info()"
   ]
  },
  {
   "cell_type": "code",
   "execution_count": 130,
   "id": "ca04fdb0",
   "metadata": {},
   "outputs": [
    {
     "data": {
      "text/html": [
       "<div>\n",
       "<style scoped>\n",
       "    .dataframe tbody tr th:only-of-type {\n",
       "        vertical-align: middle;\n",
       "    }\n",
       "\n",
       "    .dataframe tbody tr th {\n",
       "        vertical-align: top;\n",
       "    }\n",
       "\n",
       "    .dataframe thead th {\n",
       "        text-align: right;\n",
       "    }\n",
       "</style>\n",
       "<table border=\"1\" class=\"dataframe\">\n",
       "  <thead>\n",
       "    <tr style=\"text-align: right;\">\n",
       "      <th></th>\n",
       "      <th>Revenue</th>\n",
       "    </tr>\n",
       "  </thead>\n",
       "  <tbody>\n",
       "    <tr>\n",
       "      <th>count</th>\n",
       "      <td>2.800000e+01</td>\n",
       "    </tr>\n",
       "    <tr>\n",
       "      <th>mean</th>\n",
       "      <td>2.958445e+08</td>\n",
       "    </tr>\n",
       "    <tr>\n",
       "      <th>std</th>\n",
       "      <td>1.570778e+08</td>\n",
       "    </tr>\n",
       "    <tr>\n",
       "      <th>min</th>\n",
       "      <td>1.592276e+08</td>\n",
       "    </tr>\n",
       "    <tr>\n",
       "      <th>25%</th>\n",
       "      <td>2.037545e+08</td>\n",
       "    </tr>\n",
       "    <tr>\n",
       "      <th>50%</th>\n",
       "      <td>2.648955e+08</td>\n",
       "    </tr>\n",
       "    <tr>\n",
       "      <th>75%</th>\n",
       "      <td>3.341584e+08</td>\n",
       "    </tr>\n",
       "    <tr>\n",
       "      <th>max</th>\n",
       "      <td>8.583730e+08</td>\n",
       "    </tr>\n",
       "  </tbody>\n",
       "</table>\n",
       "</div>"
      ],
      "text/plain": [
       "            Revenue\n",
       "count  2.800000e+01\n",
       "mean   2.958445e+08\n",
       "std    1.570778e+08\n",
       "min    1.592276e+08\n",
       "25%    2.037545e+08\n",
       "50%    2.648955e+08\n",
       "75%    3.341584e+08\n",
       "max    8.583730e+08"
      ]
     },
     "execution_count": 130,
     "metadata": {},
     "output_type": "execute_result"
    }
   ],
   "source": [
    "top_movies.describe()"
   ]
  },
  {
   "cell_type": "code",
   "execution_count": 112,
   "id": "980af4fd",
   "metadata": {},
   "outputs": [
    {
     "data": {
      "text/plain": [
       "array([[<AxesSubplot:title={'center':'Revenue'}>]], dtype=object)"
      ]
     },
     "execution_count": 112,
     "metadata": {},
     "output_type": "execute_result"
    },
    {
     "data": {
      "image/png": "[encoded data removed]",
      "text/plain": [
       "<Figure size 1000x500 with 1 Axes>"
      ]
     },
     "metadata": {},
     "output_type": "display_data"
    }
   ],
   "source": [
    "top_movies.hist(figsize= (10, 5))"
   ]
  },
  {
   "cell_type": "code",
   "execution_count": 116,
   "id": "fca254f9",
   "metadata": {},
   "outputs": [
    {
     "data": {
      "text/plain": [
       "Text(0.5, 1.0, 'Box Office Revenues ')"
      ]
     },
     "execution_count": 116,
     "metadata": {},
     "output_type": "execute_result"
    },
    {
     "data": {
      "image/png": "[encoded data removed]",
      "text/plain": [
       "<Figure size 640x480 with 1 Axes>"
      ]
     },
     "metadata": {},
     "output_type": "display_data"
    }
   ],
   "source": [
    "top_movies.Revenue.hist()\n",
    "plt.title(\"Box Office Revenues \") "
   ]
  },
  {
   "cell_type": "code",
   "execution_count": 119,
   "id": "a7c7fe5f",
   "metadata": {},
   "outputs": [
    {
     "data": {
      "text/plain": [
       "Text(0, 0.5, 'Revenue')"
      ]
     },
     "execution_count": 119,
     "metadata": {},
     "output_type": "execute_result"
    },
    {
     "data": {
      "image/png": "[encoded data removed]",
      "text/plain": [
       "<Figure size 640x480 with 1 Axes>"
      ]
     },
     "metadata": {},
     "output_type": "display_data"
    }
   ],
   "source": [
    "top_movies.plot(x = 'Runtime', y = 'Revenue', kind = 'scatter')\n",
    "plt.title(\"Box Office Revenue against Runtime\")\n",
    "plt.xlabel('Runtime')\n",
    "plt.ylabel('Revenue')        "
   ]
  },
  {
   "cell_type": "code",
   "execution_count": null,
   "id": "b26ccfef",
   "metadata": {},
   "outputs": [],
   "source": []
  }
 ],
 "metadata": {
  "kernelspec": {
   "display_name": "Python 3 (ipykernel)",
   "language": "python",
   "name": "python3"
  },
  "language_info": {
   "codemirror_mode": {
    "name": "ipython",
    "version": 3
   },
   "file_extension": ".py",
   "mimetype": "text/x-python",
   "name": "python",
   "nbconvert_exporter": "python",
   "pygments_lexer": "ipython3",
   "version": "3.9.13"
  }
 },
 "nbformat": 4,
 "nbformat_minor": 5
}
